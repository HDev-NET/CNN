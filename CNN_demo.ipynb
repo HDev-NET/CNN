{
  "nbformat": 4,
  "nbformat_minor": 0,
  "metadata": {
    "accelerator": "GPU",
    "colab": {
      "name": "loadImageDataCustom.ipynb",
      "provenance": [],
      "collapsed_sections": [],
      "toc_visible": true,
      "mount_file_id": "1HOEHvg1PPx7rECLn7nTvOEVW1XqCy9U7",
      "authorship_tag": "ABX9TyMHi1TR6ZAHpjobMzpT3w4c",
      "include_colab_link": true
    },
    "kernelspec": {
      "display_name": "Python 3",
      "name": "python3"
    },
    "language_info": {
      "name": "python"
    }
  },
  "cells": [
    {
      "cell_type": "markdown",
      "metadata": {
        "id": "view-in-github",
        "colab_type": "text"
      },
      "source": [
        "<a href=\"https://colab.research.google.com/github/HDev-NET/CNN/blob/main/CNN_demo.ipynb\" target=\"_parent\"><img src=\"https://colab.research.google.com/assets/colab-badge.svg\" alt=\"Open In Colab\"/></a>"
      ]
    },
    {
      "cell_type": "code",
      "metadata": {
        "id": "RgsDUR_mssfd",
        "colab": {
          "base_uri": "https://localhost:8080/"
        },
        "outputId": "cc5c3c6e-add0-4580-a2fd-16ae390c7643"
      },
      "source": [
        "# Kết nối với Drive\n",
        "from google.colab import drive\n",
        "drive.mount('/content/drive')"
      ],
      "execution_count": 56,
      "outputs": [
        {
          "output_type": "stream",
          "text": [
            "Drive already mounted at /content/drive; to attempt to forcibly remount, call drive.mount(\"/content/drive\", force_remount=True).\n"
          ],
          "name": "stdout"
        }
      ]
    },
    {
      "cell_type": "code",
      "metadata": {
        "colab": {
          "base_uri": "https://localhost:8080/"
        },
        "id": "H7TDlFqu0xVJ",
        "outputId": "c6a23b41-5556-4836-cedf-a74f37356cc5"
      },
      "source": [
        "# Chạy xong thì comment lại\n",
        "!cd \"/content/drive/MyDrive/Colab Notebooks\"\n",
        "!unzip -u \"dataset.zip\" -d \"dataset\""
      ],
      "execution_count": 60,
      "outputs": [
        {
          "output_type": "stream",
          "text": [
            "unzip:  cannot find or open dataset.zip, dataset.zip.zip or dataset.zip.ZIP.\n"
          ],
          "name": "stdout"
        }
      ]
    },
    {
      "cell_type": "markdown",
      "metadata": {
        "id": "5q9a1du1fwe6"
      },
      "source": [
        "# **Giải thích thư viện**\n",
        "`import numpy as np` Xử lý một số toán học\n",
        "\n",
        "`import matplotlib.pyplot as plt`  Thư viện đồ thị trực quan, hình ảnh,...\n",
        "\n",
        "`from pathlib import Path`\n",
        "\n",
        "`import os`\n",
        "\n",
        "`import cv2`   Xử lý chuyển đổi đồng nhất kích thước, màu sắc ảnh\n",
        "\n",
        "`import random`\n",
        "\n",
        "`import pickle`  Lưu \n",
        "\n",
        "`import tensorflow as tf`\n",
        "\n",
        "`from tensorflow.keras.models import Sequential`   Khỏi tạo một mô hình neural network\n",
        "\n",
        "`from tensorflow.keras.layers import Dense, Dropout, Activation, Flatten, Conv2D, MaxPool2D`\n",
        "\n",
        "`Dense` là tạo một layer\n",
        "\n",
        "`Activation` là hàm kích hoạt\n",
        "\n",
        "`Flatten` là layer làm phẳng từ ma trân m x n sang ma tran 1 x k\n",
        "\n",
        "`Conv2D` ~ Convolutional 2D mạng tích chập 2 chiều\n",
        "\n",
        "`MaxPool2D` là hàm tinh giảm số neural\n",
        "\n",
        "`from tensorflow.keras.utils import to_categorical`  One hot\n",
        "\n",
        "`from sklearn.model_selection import train_test_split`   train test validation"
      ]
    },
    {
      "cell_type": "code",
      "metadata": {
        "id": "-Xv3pzOatAoa"
      },
      "source": [
        "import numpy as np # Xử lý một số toán học\n",
        "import matplotlib.pyplot as plt # Thư viện đồ thị trực quan, hình ảnh,...\n",
        "from pathlib import Path\n",
        "import os\n",
        "import cv2 \n",
        "import random\n",
        "import pickle\n",
        "import tensorflow as tf\n",
        "from tensorflow.keras.models import Sequential\n",
        "from tensorflow.keras.layers import Dense, Dropout, Activation, Flatten, Conv2D, MaxPool2D\n",
        "from tensorflow.keras.utils import to_categorical\n",
        "from sklearn.model_selection import train_test_split"
      ],
      "execution_count": null,
      "outputs": []
    },
    {
      "cell_type": "markdown",
      "metadata": {
        "id": "drHOJuKXeXem"
      },
      "source": [
        "`data_dir = Path(data_dir)`    Chuyển đường dẫn đến dataset thành một Path Object\n",
        "\n",
        "`categories = os.listdir(data_dir)` \n",
        " Vì cấu trúc file là :\n",
        "\n",
        "```\n",
        "path/to/image_dir/\n",
        "  split_name/  # Ex: 'train'\n",
        "      label1/  # Ex: 'airplane' or '0015'\n",
        "          xxx.png\n",
        "          xxy.png\n",
        "          xxz.png\n",
        "      label2/\n",
        "          xxx.png\n",
        "          xxy.png\n",
        "          xxz.png\n",
        "      split_name/  # Ex: 'test'\n",
        "\n",
        "```\n",
        "=> nên ta muốn lưu toàn bộ label vào trong categories\n",
        "\n",
        "Bộ dữ liệu này có tới 17 label; `80 samples/1 label => có 80 * 17 = 1360` samples\n",
        "\n",
        "Chạy lênh sau để in ra số ảnh trong dataset:\n",
        "```\n",
        "count_image = len(list(data_dir.glob(\"*/*.jpg\")))\n",
        "print(count_image)\n",
        "```\n",
        "jpg là đuôi ảnh, */*.jpg nghĩa là ngay sau đường dẫn đễn dataset * đầu tiên là mở toàn bộ folder ngay cùng cấp ngay sau đó (tức là label1, label2, ...) / * là chọn tất cả tên file với đuôi là jpg. Trong trường hợp ảnh có nhiều loài thì chọn `.*` để chọn toàn bộ loại ảnh (cần lưu ý dữ liệu lúc này có chắc chắn toàn bộ ảnh hay không, hoặc là design theo những đuôi ảnh nhất định thì tốt hơn)\n",
        "\n",
        "Chạy: `print(len(categories))` để xem số lượng label\n"
      ]
    },
    {
      "cell_type": "code",
      "metadata": {
        "id": "KHyig_7ntS05"
      },
      "source": [
        "data_dir = \"/content/drive/MyDrive/Colab Notebooks/dataset\"\n",
        "data_dir = Path(data_dir)  \n",
        "categories = os.listdir(data_dir) "
      ],
      "execution_count": null,
      "outputs": []
    },
    {
      "cell_type": "code",
      "metadata": {
        "colab": {
          "base_uri": "https://localhost:8080/"
        },
        "id": "JRS9x2kr3NsU",
        "outputId": "b27078f8-254e-4023-a4ae-0713e73fd38a"
      },
      "source": [
        "count_image = len(list(data_dir.glob(\"*/*.jpg\")))\n",
        "print(count_image)\n",
        "print(len(categories))"
      ],
      "execution_count": null,
      "outputs": [
        {
          "output_type": "stream",
          "text": [
            "1360\n",
            "17\n"
          ],
          "name": "stdout"
        }
      ]
    },
    {
      "cell_type": "code",
      "metadata": {
        "colab": {
          "base_uri": "https://localhost:8080/"
        },
        "id": "Qq7jX18xkHdG",
        "outputId": "41ab6762-e62b-4157-e13c-ba66a452f8c4"
      },
      "source": [
        "categories.index('Daffodil')"
      ],
      "execution_count": null,
      "outputs": [
        {
          "output_type": "execute_result",
          "data": {
            "text/plain": [
              "0"
            ]
          },
          "metadata": {
            "tags": []
          },
          "execution_count": 49
        }
      ]
    },
    {
      "cell_type": "markdown",
      "metadata": {
        "id": "wUDP4N_htN1i"
      },
      "source": [
        "# **Quá trình tạo tập dữ liệu**"
      ]
    },
    {
      "cell_type": "code",
      "metadata": {
        "id": "XyJMnKNn2TN2"
      },
      "source": [
        "training_data = []  # Toàn bộ dữ liệu chúng ta có thể sử dụng, phân biệt giữa training data, x_train, y_train, x_test, y_test, x_val và y_val\n",
        "# training data = [x_train, y_train] + [x_test, y_test] + [x_val, y_val]\n",
        "\n",
        "IMG_SIZE = 200  # Trong hướng dẫn này, lựa chọn đưa toàn bộ ảnh về cùng kích thước 200 x 200, (bộ dữ liệu với nhiều loại kích thước ảnh)\n",
        "def create_training_data():\n",
        "  for category in categories: # Duyệt qua từng folder label\n",
        "    path = os.path.join(data_dir, category) # tạo một path tạm đến folder label đó \n",
        "    label_number = categories.index(category) # label thứ mấy trong mảng categories chứa các label\n",
        "    for img in os.listdir(path):  # duyệt qua toàn bộ ảnh trong path\n",
        "      try:\n",
        "        img_array_gray = cv2.imread(os.path.join(path, img), cv2.IMREAD_ANYCOLOR) # Đọc mảng giá trị của ảnh, ở đây không chuyển ảnh thành gray\n",
        "        new_img_array = cv2.resize(img_array_gray, (IMG_SIZE, IMG_SIZE), interpolation = cv2.INTER_AREA)  # Chuyển ảnh về cùng kích thước\n",
        "        training_data.append([new_img_array, label_number]) # Lưu ảnh cùng label tương ứng vào training_data\n",
        "      except Exception as e:\n",
        "        pass\n",
        "\n",
        "create_training_data()\n"
      ],
      "execution_count": null,
      "outputs": []
    },
    {
      "cell_type": "code",
      "metadata": {
        "colab": {
          "base_uri": "https://localhost:8080/"
        },
        "id": "1xxmqgM9_l86",
        "outputId": "6ba67e24-490f-4dc2-9fdc-2fc3725a75e6"
      },
      "source": [
        "print(len(training_data))"
      ],
      "execution_count": null,
      "outputs": [
        {
          "output_type": "stream",
          "text": [
            "1360\n"
          ],
          "name": "stdout"
        }
      ]
    },
    {
      "cell_type": "code",
      "metadata": {
        "id": "XIqcCYe_HLbP"
      },
      "source": [
        "random.shuffle(training_data) # xáo trộn dữ liệu"
      ],
      "execution_count": null,
      "outputs": []
    },
    {
      "cell_type": "code",
      "metadata": {
        "id": "AS9s4k2AHbWj"
      },
      "source": [
        "# Tạo 2 mảng để lưu samples và labels theo cùng index tương ứng\n",
        "X = []  # samples\n",
        "y = []  # labels"
      ],
      "execution_count": null,
      "outputs": []
    },
    {
      "cell_type": "code",
      "metadata": {
        "id": "A6IVD2SFHyHf"
      },
      "source": [
        "for feature, label in training_data:  # Mỗi phần tử trong training_data có dạng [feature, label] trong đó feature = new_img_array và label = label_number\n",
        "  X.append(feature)\n",
        "  y.append(label)\n",
        "\n",
        "# X bây giờ chứa toàn bộ features\n",
        "# Chuyển X về dạng ma trận\n",
        "# -1 ở đây tương đương với số lượng features, dùng -1 numpy tự hiểu là ứng với số lượng của feature hiện có trong X\n",
        "# Vì không chuyển thành ảnh trắng đen nên ảnh có 3 kênh màu, tham số cuối cùng trong reshape\n",
        "X = np.array(X).reshape(-1, IMG_SIZE, IMG_SIZE, 3)"
      ],
      "execution_count": null,
      "outputs": []
    },
    {
      "cell_type": "code",
      "metadata": {
        "id": "kbwLhc0dj0TR"
      },
      "source": [
        "# Bước này dùng để lưu X và y vào một file theo định dạng có cấu trúc để khỏi phải chạy lại hàm tạo X, y phía trên - khá tốn thời gian cho việc tạo lại từ đầu\n",
        "pickle_out = open(\"/content/drive/MyDrive/Colab Notebooks/X.pickle\", \"wb\")\n",
        "pickle.dump(X, pickle_out)\n",
        "pickle_out.close()\n",
        "\n",
        "pickle_out = open(\"/content/drive/MyDrive/Colab Notebooks/y.pickle\", \"wb\")\n",
        "pickle.dump(y, pickle_out)\n",
        "pickle_out.close()"
      ],
      "execution_count": null,
      "outputs": []
    },
    {
      "cell_type": "code",
      "metadata": {
        "id": "sVkfv55rka05"
      },
      "source": [
        "# Đọc lại file cấu trúc đã lưu\n",
        "pickle_in = open(\"/content/drive/MyDrive/Colab Notebooks/X.pickle\", \"rb\")\n",
        "X = pickle.load(pickle_in)\n",
        "pickle_in.close()\n",
        "\n",
        "pickle_in = open(\"/content/drive/MyDrive/Colab Notebooks/y.pickle\", \"rb\")\n",
        "y = pickle.load(pickle_in)\n",
        "pickle_in.close()"
      ],
      "execution_count": null,
      "outputs": []
    },
    {
      "cell_type": "code",
      "metadata": {
        "id": "Mv67AuWyktzy"
      },
      "source": [
        "X = X/255  # Tinh giảm giá trị trong điểm ảnh (vì giá trị màu chạy từ 0 --> 255 nên mới có con số 255 ở đây)\n",
        "y = to_categorical(y) # one hot\n",
        "# ví dụ y_number = 14 thì y = [0. 0. 0. 0. 0. 0. 0. 0. 0. 0. 0. 0. 0. 0. 1. 0. 0.]"
      ],
      "execution_count": null,
      "outputs": []
    },
    {
      "cell_type": "markdown",
      "metadata": {
        "id": "b37vfofVtYLR"
      },
      "source": [
        "# **Xây dựng model**"
      ]
    },
    {
      "cell_type": "code",
      "metadata": {
        "id": "XyUVDKzskvat"
      },
      "source": [
        "model = Sequential() #  Khởi tạo một một mô hình neural\n",
        "\n",
        "# Bắt đầu của mạng thêm một Convolutional layer với các tham số trên\n",
        "# https://www.tensorflow.org/api_docs/python/tf/keras/layers/Conv2D\n",
        "# Lớp ban đầu này phải truyền cho mạng biết input_shape ban đầu là bao nhiêu chính là (weight x heigh x depth) của ảnh\n",
        "# padding chỉ có thể chọn 1 trong 2 giá trị `same` hoặc `valid`\n",
        "model.add(Conv2D(filters=32, kernel_size=(3,3), input_shape=X.shape[1:], padding=\"same\"))\n",
        "\n",
        "# Thêm cho layer trên một hàm kích hoạt\n",
        "model.add(Activation(\"relu\"))\n",
        "# Tinh giảm số neural của output nếu cần thiết\n",
        "model.add(MaxPool2D(pool_size=(2, 2), strides=2))\n",
        "\n",
        "model.add(Conv2D(filters=64, kernel_size=(3,3)))\n",
        "model.add(Activation(\"relu\"))\n",
        "model.add(MaxPool2D(pool_size=(2, 2), strides=2))\n",
        "\n",
        "model.add(Conv2D(filters=128, kernel_size=(3,3)))\n",
        "model.add(Activation(\"relu\"))\n",
        "model.add(MaxPool2D(pool_size=(2, 2), strides=2))\n",
        "\n",
        "# Làm phẳng neuron, bắt đầu fully connected\n",
        "model.add(Flatten())\n",
        "# Tạo một layer\n",
        "model.add(Dense(128))\n",
        "# Thêm hàm kích hoạt\n",
        "model.add(Activation(\"relu\"))\n",
        "\n",
        "model.add(Dense(64))\n",
        "model.add(Activation(\"relu\"))\n",
        "# output\n",
        "model.add(Dense(len(categories)))\n",
        "model.add(Activation(\"softmax\"))\n",
        "\n",
        "# Cung cấp cho mô hình hàm loss function lựa chọn, thuật toán tối ưu\n",
        "model.compile(loss=\"binary_crossentropy\", optimizer=\"adam\", metrics=[\"accuracy\"])\n",
        "model.summary() # xem chi tiết mô hình xây dựng của chính mình\n",
        "\n",
        "# Cuối cùng đào tạo nó\n",
        "model.fit(X, y, batch_size=200, epochs=14)"
      ],
      "execution_count": null,
      "outputs": []
    },
    {
      "cell_type": "code",
      "metadata": {
        "id": "5C4ETOx6mSBl",
        "colab": {
          "base_uri": "https://localhost:8080/"
        },
        "outputId": "9410e6c9-fa47-4c8a-8984-674c091634ea"
      },
      "source": [
        "# Cuối cùng là dùng một mẫu để dự đoán\n",
        "y_hat = model.predict(X[2:3])\n",
        "y_label = np.argmax(y_hat, axis=1)\n",
        "print(y_label)\n",
        "print(y[2])"
      ],
      "execution_count": null,
      "outputs": [
        {
          "output_type": "stream",
          "text": [
            "[14]\n",
            "[0. 0. 0. 0. 0. 0. 0. 0. 0. 0. 0. 0. 0. 0. 1. 0. 0.]\n"
          ],
          "name": "stdout"
        }
      ]
    },
    {
      "cell_type": "markdown",
      "metadata": {
        "id": "X6ZWO-2nrMbV"
      },
      "source": [
        "# **Tổng kết**\n",
        "Hướng dẫn trên chưa bao gồm bộ dữ liệu để train và validation.\n",
        "Cách làm như sau, ban đầu từ training_data, chúng ta chia tập dữ liệu thành train và test:\n",
        " + Test để sau cùng chúng ta dự đoán và tính toán độ chính xác cuối cùng cho mô hình, hoặc bộ này được cung cấp riêng dùng để đánh giá tổng quan mô hình của mình\n",
        " + Train: trong tập này chúng ta nên chia thành train và validation, chức năng của validation giống như test, nhưng hiểu thoáng rằng trong ta không biết trong thực tế dữ liệu sẽ như thế nào - đây chính là tập test của chúng ta, còn validation chính là tập dữ liệu thực thế giả định của chúng ta - tập dữ liệu mà chúng ta mặc định rằng đã có và dùng để đánh giá độ chính xác, điều chỉnh tham số. \n",
        "\n",
        "Ở đây mình nói gộp, các bạn phải hiểu rằng train bao gồm cả X_train và y_train, tương tự cho test và validation. \n",
        "\n",
        "***Lưu ý:***\n",
        "colab hỗ trợ tốt cho việc training =)))).\n",
        "Code trên có tham khảo từ một số nguồn, vì chưa có thời gian nên chưa ghi nguồn vào được, về sau sẽ cập nhật chi tiết và trích dẫn nguồn.\n",
        "\n",
        "Vì hướng dẫn này làm trong phút chót nên chỉ ngắn gọn thế thôi, mong rằng giúp ích được cho cách bạn."
      ]
    }
  ]
}